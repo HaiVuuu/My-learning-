{
 "cells": [
  {
   "cell_type": "code",
   "execution_count": 1,
   "metadata": {},
   "outputs": [],
   "source": [
    "import torch"
   ]
  },
  {
   "cell_type": "code",
   "execution_count": 2,
   "metadata": {},
   "outputs": [
    {
     "ename": "SyntaxError",
     "evalue": "invalid syntax (3917541196.py, line 1)",
     "output_type": "error",
     "traceback": [
      "\u001b[1;36m  Cell \u001b[1;32mIn[2], line 1\u001b[1;36m\u001b[0m\n\u001b[1;33m    import torch.utils.data Dataset,DataLoader\u001b[0m\n\u001b[1;37m                            ^\u001b[0m\n\u001b[1;31mSyntaxError\u001b[0m\u001b[1;31m:\u001b[0m invalid syntax\n"
     ]
    }
   ],
   "source": [
    "import torch.utils.data import Dataset,DataLoader"
   ]
  },
  {
   "cell_type": "code",
   "execution_count": null,
   "metadata": {},
   "outputs": [],
   "source": [
    "class MyDataset(Dataset):\n",
    "    def __int__(self,x,y):\n",
    "        super().__init__()\n",
    "        self.x = torch.tensor(x.values,dtype=torch.float32) #Nap x dang pandas ve tensor\n",
    "        self.y = torch.tensor(y.values,dtype=torch.float32) #Nap y dang pandas ve tensor\n",
    "    def __len__(self):\n",
    "        return len(self.y)\n",
    "    def __getitem__(self,idx):\n",
    "        return self.x[idx],self.y[idx]\n",
    "train_dataset = MyDataset(x_train,y_train)\n",
    "test_dataset = MyDataset(x_train,y_train)\n",
    "train_dataloader = DataLoader(train_dataset, batch_size = 600, shuffle = True)\n",
    "test_dataloader = DataLoader(test_dataset)"
   ]
  },
  {
   "cell_type": "code",
   "execution_count": null,
   "metadata": {},
   "outputs": [],
   "source": [
    "from torch.nn import nn\n",
    "class MyNet(nn):\n",
    "    def __init__(self,in_dim,out_dim):\n",
    "        super().__init__()\n",
    "        self.layer1 = nn.Linear(in_dim,32)\n",
    "        self.layer2 = nn.Linear(32,16)\n",
    "        self.layer3 = nn.Linear(16,8)\n",
    "        self.layer4 = nn.Linear(8, out_dim)\n",
    "    def forward(self,x):\n",
    "        x = F.relu(self.layer1)\n",
    "        x = F.relu(self.layer2)\n",
    "        x = F.relu(self.layer3)\n",
    "        x = F.relu(self.layer4)\n",
    "        return x\n",
    "model = MyNet(x_train.shape[1],1)#Shape [1]:40 --> output = 1\n",
    "criterion = torch.nn.BCELoss()#Binary cross entropy loss\n",
    "optimizer = torch.optim.Adam(model_parameters(), lr=0.01)#adam optimizer\n"
   ]
  },
  {
   "cell_type": "code",
   "execution_count": null,
   "metadata": {},
   "outputs": [],
   "source": [
    "device = \"cuda:0\" if torch.cuda.is_availiable() else \"cpu\"\n",
    "model.to(device)\n",
    "for epoch in range(100):\n",
    "    batch_loss = 0\n",
    "    batch_acc = 0\n",
    "    batch_cnt = 0\n",
    "    for x_batch,y_batch in train_dataloader:\n",
    "        x_batch = x_batch.to(device).to(torch.float32)\n",
    "        y_batch = y_batch.to(device).to(torch.float32)\n",
    "        optimizer.zero_grad()#Xoa gradient cua vong lap truoc\n",
    "        output = model(x_batch)#tao output\n",
    "        loss = criterion(output,y_batch)\n",
    "        batch_loss = loss.item()\n",
    "        _,predictions = torch.max(outputs,1)\n",
    "        batch_acc += torch.sum(predictions==y_batch)/len(y_batch)\n",
    "        batch_cnt += 1\n",
    "    if epoch % 100 == 0 and epoch >0:\n",
    "        print(f'epoch:{epoch}|Train loss: {batch_loss:.2f}|Train_acc:{batch_acc/batch_cnt:.2f}%')\n"
   ]
  }
 ],
 "metadata": {
  "kernelspec": {
   "display_name": "Python 3",
   "language": "python",
   "name": "python3"
  },
  "language_info": {
   "codemirror_mode": {
    "name": "ipython",
    "version": 3
   },
   "file_extension": ".py",
   "mimetype": "text/x-python",
   "name": "python",
   "nbconvert_exporter": "python",
   "pygments_lexer": "ipython3",
   "version": "3.11.7"
  }
 },
 "nbformat": 4,
 "nbformat_minor": 2
}
